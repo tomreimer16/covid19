{
 "metadata": {
  "language_info": {
   "codemirror_mode": {
    "name": "ipython",
    "version": 3
   },
   "file_extension": ".py",
   "mimetype": "text/x-python",
   "name": "python",
   "nbconvert_exporter": "python",
   "pygments_lexer": "ipython3",
   "version": "3.8.2-final"
  },
  "orig_nbformat": 2,
  "kernelspec": {
   "name": "python_defaultSpec_1598282934299",
   "display_name": "Python 3.8.2 64-bit ('3.8.2': pyenv)"
  }
 },
 "nbformat": 4,
 "nbformat_minor": 2,
 "cells": [
  {
   "cell_type": "code",
   "execution_count": 15,
   "metadata": {
    "tags": []
   },
   "outputs": [],
   "source": [
    "# import the relevant packages\n",
    "\n",
    "from requests import get\n",
    "from requests import options\n",
    "from json import dumps\n",
    "import numpy as np\n",
    "import pandas as pd"
   ]
  },
  {
   "cell_type": "code",
   "execution_count": 20,
   "metadata": {
    "tags": []
   },
   "outputs": [],
   "source": [
    "# ENDPOINT = \"https://api.coronavirus.data.gov.uk/v1/data\"\n",
    "\n",
    "# response = options(ENDPOINT, timeout=10)\n",
    "\n",
    "# print(dumps(response.json(), indent=4, sort_keys=True))"
   ]
  },
  {
   "cell_type": "code",
   "execution_count": 21,
   "metadata": {},
   "outputs": [],
   "source": [
    "# function to get JSON information from API\n",
    "\n",
    "def get_data(api_params):\n",
    "    \n",
    "    ENDPOINT = \"https://api.coronavirus.data.gov.uk/v1/data\"\n",
    "\n",
    "    response = get(ENDPOINT, params=api_params, timeout=10)\n",
    "\n",
    "    if response.status_code >= 400:\n",
    "        raise RuntimeError(f'Request failed: { response.text }')\n",
    "        \n",
    "    return response.json()"
   ]
  },
  {
   "cell_type": "code",
   "execution_count": 22,
   "metadata": {
    "tags": []
   },
   "outputs": [],
   "source": [
    "# define out parameters for the API call\n",
    "\n",
    "AREA_TYPE = \"nhsRegion\"\n",
    "AREA_NAME = \"london\"\n",
    "\n",
    "filters = [\n",
    "    f\"areaType={ AREA_TYPE }\",\n",
    "    f\"areaName={ AREA_NAME }\"\n",
    "]\n",
    "\n",
    "structure = {\n",
    "    \"date\": \"date\",\n",
    "    \"name\": \"areaName\",\n",
    "    \"newCases\": \"newCasesByPublishDate\",\n",
    "    \"newAdmissions\": \"newAdmissions\",\n",
    "    \"newDeaths\": \"newDeaths28DaysByDeathDate\",\n",
    "    \"P1Tests\": \"newPillarOneTestsByPublishDate\",\n",
    "    \"P2Tests\": \"newPillarTwoTestsByPublishDate\",\n",
    "    \"P3Tests\": \"newPillarThreeTestsByPublishDate\",\n",
    "    \"P4Tests\": \"newPillarFourTestsByPublishDate\"   \n",
    "}\n",
    "\n",
    "\n",
    "api_params = {\n",
    "    \"filters\": str.join(\";\", filters),\n",
    "    \"structure\": dumps(structure, separators=(\",\", \":\"))\n",
    "}"
   ]
  },
  {
   "cell_type": "code",
   "execution_count": 23,
   "metadata": {
    "tags": []
   },
   "outputs": [],
   "source": [
    "# pull in json formatted covid data from the API\n",
    "londonJson = get_data(api_params)"
   ]
  },
  {
   "cell_type": "code",
   "execution_count": 24,
   "metadata": {
    "tags": []
   },
   "outputs": [
    {
     "output_type": "execute_result",
     "data": {
      "text/plain": "              name  newCases  newAdmissions newDeaths  \\\ndate                                                    \n2020-08-20  London         0            6.0      None   \n2020-08-21  London         0            5.0      None   \n2020-08-22  London         0            3.0      None   \n2020-08-23  London         0            NaN      None   \n2020-08-24  London         0            NaN      None   \n\n                                   P1Tests P2Tests  \\\ndate                                                 \n2020-08-20  newPillarOneTestsByPublishDate    None   \n2020-08-21  newPillarOneTestsByPublishDate    None   \n2020-08-22  newPillarOneTestsByPublishDate    None   \n2020-08-23  newPillarOneTestsByPublishDate    None   \n2020-08-24  newPillarOneTestsByPublishDate    None   \n\n                                     P3Tests                          P4Tests  \ndate                                                                           \n2020-08-20  newPillarThreeTestsByPublishDate  newPillarFourTestsByPublishDate  \n2020-08-21  newPillarThreeTestsByPublishDate  newPillarFourTestsByPublishDate  \n2020-08-22  newPillarThreeTestsByPublishDate  newPillarFourTestsByPublishDate  \n2020-08-23  newPillarThreeTestsByPublishDate  newPillarFourTestsByPublishDate  \n2020-08-24  newPillarThreeTestsByPublishDate  newPillarFourTestsByPublishDate  ",
      "text/html": "<div>\n<style scoped>\n    .dataframe tbody tr th:only-of-type {\n        vertical-align: middle;\n    }\n\n    .dataframe tbody tr th {\n        vertical-align: top;\n    }\n\n    .dataframe thead th {\n        text-align: right;\n    }\n</style>\n<table border=\"1\" class=\"dataframe\">\n  <thead>\n    <tr style=\"text-align: right;\">\n      <th></th>\n      <th>name</th>\n      <th>newCases</th>\n      <th>newAdmissions</th>\n      <th>newDeaths</th>\n      <th>P1Tests</th>\n      <th>P2Tests</th>\n      <th>P3Tests</th>\n      <th>P4Tests</th>\n    </tr>\n    <tr>\n      <th>date</th>\n      <th></th>\n      <th></th>\n      <th></th>\n      <th></th>\n      <th></th>\n      <th></th>\n      <th></th>\n      <th></th>\n    </tr>\n  </thead>\n  <tbody>\n    <tr>\n      <th>2020-08-20</th>\n      <td>London</td>\n      <td>0</td>\n      <td>6.0</td>\n      <td>None</td>\n      <td>newPillarOneTestsByPublishDate</td>\n      <td>None</td>\n      <td>newPillarThreeTestsByPublishDate</td>\n      <td>newPillarFourTestsByPublishDate</td>\n    </tr>\n    <tr>\n      <th>2020-08-21</th>\n      <td>London</td>\n      <td>0</td>\n      <td>5.0</td>\n      <td>None</td>\n      <td>newPillarOneTestsByPublishDate</td>\n      <td>None</td>\n      <td>newPillarThreeTestsByPublishDate</td>\n      <td>newPillarFourTestsByPublishDate</td>\n    </tr>\n    <tr>\n      <th>2020-08-22</th>\n      <td>London</td>\n      <td>0</td>\n      <td>3.0</td>\n      <td>None</td>\n      <td>newPillarOneTestsByPublishDate</td>\n      <td>None</td>\n      <td>newPillarThreeTestsByPublishDate</td>\n      <td>newPillarFourTestsByPublishDate</td>\n    </tr>\n    <tr>\n      <th>2020-08-23</th>\n      <td>London</td>\n      <td>0</td>\n      <td>NaN</td>\n      <td>None</td>\n      <td>newPillarOneTestsByPublishDate</td>\n      <td>None</td>\n      <td>newPillarThreeTestsByPublishDate</td>\n      <td>newPillarFourTestsByPublishDate</td>\n    </tr>\n    <tr>\n      <th>2020-08-24</th>\n      <td>London</td>\n      <td>0</td>\n      <td>NaN</td>\n      <td>None</td>\n      <td>newPillarOneTestsByPublishDate</td>\n      <td>None</td>\n      <td>newPillarThreeTestsByPublishDate</td>\n      <td>newPillarFourTestsByPublishDate</td>\n    </tr>\n  </tbody>\n</table>\n</div>"
     },
     "metadata": {},
     "execution_count": 24
    }
   ],
   "source": [
    "# extract the desired data\n",
    "\n",
    "londonDf = pd.DataFrame(londonJson[\"data\"])\n",
    "londonDf.sort_values(by='date',ascending=True,inplace=True)\n",
    "londonDf.set_index(keys='date', inplace=True)\n",
    "\n",
    "londonDf.tail()"
   ]
  }
 ]
}