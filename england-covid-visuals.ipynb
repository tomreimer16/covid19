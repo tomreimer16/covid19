{
 "metadata": {
  "language_info": {
   "codemirror_mode": {
    "name": "ipython",
    "version": 3
   },
   "file_extension": ".py",
   "mimetype": "text/x-python",
   "name": "python",
   "nbconvert_exporter": "python",
   "pygments_lexer": "ipython3",
   "version": "3.8.2-final"
  },
  "orig_nbformat": 2,
  "kernelspec": {
   "name": "python_defaultSpec_1600685823443",
   "display_name": "Python 3.8.2 64-bit ('3.8.2': pyenv)"
  }
 },
 "nbformat": 4,
 "nbformat_minor": 2,
 "cells": [
  {
   "cell_type": "code",
   "execution_count": 1,
   "metadata": {
    "tags": []
   },
   "outputs": [],
   "source": [
    "# import the relevant packages\n",
    "\n",
    "from requests import get\n",
    "from json import dumps\n",
    "import numpy as np\n",
    "import pandas as pd"
   ]
  },
  {
   "cell_type": "code",
   "execution_count": 2,
   "metadata": {},
   "outputs": [],
   "source": [
    "# function to get JSON information from API\n",
    "\n",
    "def get_data(api_params):\n",
    "    \n",
    "    ENDPOINT = \"https://api.coronavirus.data.gov.uk/v1/data\"\n",
    "\n",
    "    response = get(ENDPOINT, params=api_params, timeout=10)\n",
    "\n",
    "    if response.status_code >= 400:\n",
    "        raise RuntimeError(f'Request failed: { response.text }')\n",
    "        \n",
    "    return response.json()"
   ]
  },
  {
   "cell_type": "code",
   "execution_count": 17,
   "metadata": {
    "tags": []
   },
   "outputs": [],
   "source": [
    "# define out parameters for the API call\n",
    "\n",
    "AREA_TYPE = \"nation\"\n",
    "AREA_NAME = \"England\"\n",
    "\n",
    "filters = [\n",
    "    f\"areaType={ AREA_TYPE }\",\n",
    "    f\"areaName={ AREA_NAME }\"\n",
    "]\n",
    "\n",
    "# Area Types:\n",
    "#   overview - Overview data for the United Kingdom\n",
    "#   nation - Nation data (England, Northern Ireland, Scotland, and Wales)\n",
    "#   region - Region data\n",
    "#   nhsRegion - NHS Region data\n",
    "#   utla - Upper-tier local authority data\n",
    "#   ltla - Lower-tier local authority data\n",
    "\n",
    "structure = {\n",
    "    \"date\": \"date\",\n",
    "    \"name\": \"areaName\",\n",
    "    \"newCases\": \"newCasesByPublishDate\",\n",
    "    \"newAdmissions\": \"newAdmissions\",\n",
    "    \"newDeaths\": \"newDeaths28DaysByDeathDate\",\n",
    "    \"P1Tests\": \"newPillarOneTestsByPublishDate\", # NHS (and PHE in England)\n",
    "    \"P2Tests\": \"newPillarTwoTestsByPublishDate\", # Commercial Partners\n",
    "    \"P3Tests\": \"newPillarThreeTestsByPublishDate\", # Antibody\n",
    "    \"P4Tests\": \"newPillarFourTestsByPublishDate\",   # Surveillance\n",
    "    \"CumTests\": \"cumTestsByPublishDate\",\n",
    "    \"NewTests\": \"newTestsByPublishDate\"\n",
    "}\n",
    "\n",
    "\n",
    "api_params = {\n",
    "    \"filters\": str.join(\";\", filters),\n",
    "    \"structure\": dumps(structure, separators=(\",\", \":\"))\n",
    "}"
   ]
  },
  {
   "cell_type": "code",
   "execution_count": 18,
   "metadata": {
    "tags": []
   },
   "outputs": [],
   "source": [
    "# pull in json formatted covid data from the API\n",
    "json = get_data(api_params)\n",
    "df = pd.DataFrame(json[\"data\"])"
   ]
  },
  {
   "cell_type": "code",
   "execution_count": 19,
   "metadata": {},
   "outputs": [],
   "source": [
    "df['date']=pd.to_datetime(df['date'])"
   ]
  },
  {
   "cell_type": "code",
   "execution_count": 20,
   "metadata": {
    "tags": []
   },
   "outputs": [
    {
     "output_type": "execute_result",
     "data": {
      "text/plain": "               name  newCases  newAdmissions  newDeaths  \\\ndate                                                      \n2020-09-01  England      1041           58.0        2.0   \n2020-09-02  England      1239           79.0        8.0   \n2020-09-03  England      1507           69.0        7.0   \n2020-09-04  England      1669           67.0        6.0   \n2020-09-05  England      1477           94.0       10.0   \n2020-09-06  England      2576           85.0        8.0   \n2020-09-07  England      2528           84.0       14.0   \n2020-09-08  England      2094           99.0        9.0   \n2020-09-09  England      2286          136.0        9.0   \n2020-09-10  England      2578          143.0       11.0   \n2020-09-11  England      3143          135.0       11.0   \n2020-09-12  England      3008          143.0       13.0   \n2020-09-13  England      2837          153.0       15.0   \n2020-09-14  England      2259          172.0       14.0   \n2020-09-15  England      2649          194.0       15.0   \n2020-09-16  England      3396          183.0       20.0   \n2020-09-17  England      2788          199.0       14.0   \n2020-09-18  England      3771          205.0       13.0   \n2020-09-19  England      3638            NaN        4.0   \n2020-09-20  England      3279            NaN        NaN   \n\n                                   P1Tests   P2Tests  \\\ndate                                                   \n2020-09-01  newPillarOneTestsByPublishDate   95735.0   \n2020-09-02  newPillarOneTestsByPublishDate   83091.0   \n2020-09-03  newPillarOneTestsByPublishDate   94034.0   \n2020-09-04  newPillarOneTestsByPublishDate   99331.0   \n2020-09-05  newPillarOneTestsByPublishDate  107382.0   \n2020-09-06  newPillarOneTestsByPublishDate   88631.0   \n2020-09-07  newPillarOneTestsByPublishDate  107859.0   \n2020-09-08  newPillarOneTestsByPublishDate  107697.0   \n2020-09-09  newPillarOneTestsByPublishDate  104703.0   \n2020-09-10  newPillarOneTestsByPublishDate  111755.0   \n2020-09-11  newPillarOneTestsByPublishDate  138437.0   \n2020-09-12  newPillarOneTestsByPublishDate  146607.0   \n2020-09-13  newPillarOneTestsByPublishDate  132383.0   \n2020-09-14  newPillarOneTestsByPublishDate  143011.0   \n2020-09-15  newPillarOneTestsByPublishDate  131781.0   \n2020-09-16  newPillarOneTestsByPublishDate  131580.0   \n2020-09-17  newPillarOneTestsByPublishDate  132918.0   \n2020-09-18  newPillarOneTestsByPublishDate  133978.0   \n2020-09-19  newPillarOneTestsByPublishDate       NaN   \n2020-09-20  newPillarOneTestsByPublishDate       NaN   \n\n                                     P3Tests                          P4Tests  \\\ndate                                                                            \n2020-09-01  newPillarThreeTestsByPublishDate  newPillarFourTestsByPublishDate   \n2020-09-02  newPillarThreeTestsByPublishDate  newPillarFourTestsByPublishDate   \n2020-09-03  newPillarThreeTestsByPublishDate  newPillarFourTestsByPublishDate   \n2020-09-04  newPillarThreeTestsByPublishDate  newPillarFourTestsByPublishDate   \n2020-09-05  newPillarThreeTestsByPublishDate  newPillarFourTestsByPublishDate   \n2020-09-06  newPillarThreeTestsByPublishDate  newPillarFourTestsByPublishDate   \n2020-09-07  newPillarThreeTestsByPublishDate  newPillarFourTestsByPublishDate   \n2020-09-08  newPillarThreeTestsByPublishDate  newPillarFourTestsByPublishDate   \n2020-09-09  newPillarThreeTestsByPublishDate  newPillarFourTestsByPublishDate   \n2020-09-10  newPillarThreeTestsByPublishDate  newPillarFourTestsByPublishDate   \n2020-09-11  newPillarThreeTestsByPublishDate  newPillarFourTestsByPublishDate   \n2020-09-12  newPillarThreeTestsByPublishDate  newPillarFourTestsByPublishDate   \n2020-09-13  newPillarThreeTestsByPublishDate  newPillarFourTestsByPublishDate   \n2020-09-14  newPillarThreeTestsByPublishDate  newPillarFourTestsByPublishDate   \n2020-09-15  newPillarThreeTestsByPublishDate  newPillarFourTestsByPublishDate   \n2020-09-16  newPillarThreeTestsByPublishDate  newPillarFourTestsByPublishDate   \n2020-09-17  newPillarThreeTestsByPublishDate  newPillarFourTestsByPublishDate   \n2020-09-18  newPillarThreeTestsByPublishDate  newPillarFourTestsByPublishDate   \n2020-09-19  newPillarThreeTestsByPublishDate  newPillarFourTestsByPublishDate   \n2020-09-20  newPillarThreeTestsByPublishDate  newPillarFourTestsByPublishDate   \n\n              CumTests  NewTests  \ndate                              \n2020-09-01  13982864.0  129093.0  \n2020-09-02  14111009.0  128278.0  \n2020-09-03  14264581.0  153341.0  \n2020-09-04  14422113.0  156472.0  \n2020-09-05  14588153.0  167091.0  \n2020-09-06  14727117.0  138964.0  \n2020-09-07  14873192.0  146110.0  \n2020-09-08  15026604.0  153403.0  \n2020-09-09  15218915.0  164626.0  \n2020-09-10  15402472.0  178198.0  \n2020-09-11  15609930.0  198710.0  \n2020-09-12  15859088.0  209405.0  \n2020-09-13  16047533.0  188445.0  \n2020-09-14  16233997.0  186464.0  \n2020-09-15  16417102.0  183010.0  \n2020-09-16  16618443.0  200210.0  \n2020-09-17  16829078.0  207516.0  \n2020-09-18  17035735.0  205264.0  \n2020-09-19         NaN       NaN  \n2020-09-20         NaN       NaN  ",
      "text/html": "<div>\n<style scoped>\n    .dataframe tbody tr th:only-of-type {\n        vertical-align: middle;\n    }\n\n    .dataframe tbody tr th {\n        vertical-align: top;\n    }\n\n    .dataframe thead th {\n        text-align: right;\n    }\n</style>\n<table border=\"1\" class=\"dataframe\">\n  <thead>\n    <tr style=\"text-align: right;\">\n      <th></th>\n      <th>name</th>\n      <th>newCases</th>\n      <th>newAdmissions</th>\n      <th>newDeaths</th>\n      <th>P1Tests</th>\n      <th>P2Tests</th>\n      <th>P3Tests</th>\n      <th>P4Tests</th>\n      <th>CumTests</th>\n      <th>NewTests</th>\n    </tr>\n    <tr>\n      <th>date</th>\n      <th></th>\n      <th></th>\n      <th></th>\n      <th></th>\n      <th></th>\n      <th></th>\n      <th></th>\n      <th></th>\n      <th></th>\n      <th></th>\n    </tr>\n  </thead>\n  <tbody>\n    <tr>\n      <th>2020-09-01</th>\n      <td>England</td>\n      <td>1041</td>\n      <td>58.0</td>\n      <td>2.0</td>\n      <td>newPillarOneTestsByPublishDate</td>\n      <td>95735.0</td>\n      <td>newPillarThreeTestsByPublishDate</td>\n      <td>newPillarFourTestsByPublishDate</td>\n      <td>13982864.0</td>\n      <td>129093.0</td>\n    </tr>\n    <tr>\n      <th>2020-09-02</th>\n      <td>England</td>\n      <td>1239</td>\n      <td>79.0</td>\n      <td>8.0</td>\n      <td>newPillarOneTestsByPublishDate</td>\n      <td>83091.0</td>\n      <td>newPillarThreeTestsByPublishDate</td>\n      <td>newPillarFourTestsByPublishDate</td>\n      <td>14111009.0</td>\n      <td>128278.0</td>\n    </tr>\n    <tr>\n      <th>2020-09-03</th>\n      <td>England</td>\n      <td>1507</td>\n      <td>69.0</td>\n      <td>7.0</td>\n      <td>newPillarOneTestsByPublishDate</td>\n      <td>94034.0</td>\n      <td>newPillarThreeTestsByPublishDate</td>\n      <td>newPillarFourTestsByPublishDate</td>\n      <td>14264581.0</td>\n      <td>153341.0</td>\n    </tr>\n    <tr>\n      <th>2020-09-04</th>\n      <td>England</td>\n      <td>1669</td>\n      <td>67.0</td>\n      <td>6.0</td>\n      <td>newPillarOneTestsByPublishDate</td>\n      <td>99331.0</td>\n      <td>newPillarThreeTestsByPublishDate</td>\n      <td>newPillarFourTestsByPublishDate</td>\n      <td>14422113.0</td>\n      <td>156472.0</td>\n    </tr>\n    <tr>\n      <th>2020-09-05</th>\n      <td>England</td>\n      <td>1477</td>\n      <td>94.0</td>\n      <td>10.0</td>\n      <td>newPillarOneTestsByPublishDate</td>\n      <td>107382.0</td>\n      <td>newPillarThreeTestsByPublishDate</td>\n      <td>newPillarFourTestsByPublishDate</td>\n      <td>14588153.0</td>\n      <td>167091.0</td>\n    </tr>\n    <tr>\n      <th>2020-09-06</th>\n      <td>England</td>\n      <td>2576</td>\n      <td>85.0</td>\n      <td>8.0</td>\n      <td>newPillarOneTestsByPublishDate</td>\n      <td>88631.0</td>\n      <td>newPillarThreeTestsByPublishDate</td>\n      <td>newPillarFourTestsByPublishDate</td>\n      <td>14727117.0</td>\n      <td>138964.0</td>\n    </tr>\n    <tr>\n      <th>2020-09-07</th>\n      <td>England</td>\n      <td>2528</td>\n      <td>84.0</td>\n      <td>14.0</td>\n      <td>newPillarOneTestsByPublishDate</td>\n      <td>107859.0</td>\n      <td>newPillarThreeTestsByPublishDate</td>\n      <td>newPillarFourTestsByPublishDate</td>\n      <td>14873192.0</td>\n      <td>146110.0</td>\n    </tr>\n    <tr>\n      <th>2020-09-08</th>\n      <td>England</td>\n      <td>2094</td>\n      <td>99.0</td>\n      <td>9.0</td>\n      <td>newPillarOneTestsByPublishDate</td>\n      <td>107697.0</td>\n      <td>newPillarThreeTestsByPublishDate</td>\n      <td>newPillarFourTestsByPublishDate</td>\n      <td>15026604.0</td>\n      <td>153403.0</td>\n    </tr>\n    <tr>\n      <th>2020-09-09</th>\n      <td>England</td>\n      <td>2286</td>\n      <td>136.0</td>\n      <td>9.0</td>\n      <td>newPillarOneTestsByPublishDate</td>\n      <td>104703.0</td>\n      <td>newPillarThreeTestsByPublishDate</td>\n      <td>newPillarFourTestsByPublishDate</td>\n      <td>15218915.0</td>\n      <td>164626.0</td>\n    </tr>\n    <tr>\n      <th>2020-09-10</th>\n      <td>England</td>\n      <td>2578</td>\n      <td>143.0</td>\n      <td>11.0</td>\n      <td>newPillarOneTestsByPublishDate</td>\n      <td>111755.0</td>\n      <td>newPillarThreeTestsByPublishDate</td>\n      <td>newPillarFourTestsByPublishDate</td>\n      <td>15402472.0</td>\n      <td>178198.0</td>\n    </tr>\n    <tr>\n      <th>2020-09-11</th>\n      <td>England</td>\n      <td>3143</td>\n      <td>135.0</td>\n      <td>11.0</td>\n      <td>newPillarOneTestsByPublishDate</td>\n      <td>138437.0</td>\n      <td>newPillarThreeTestsByPublishDate</td>\n      <td>newPillarFourTestsByPublishDate</td>\n      <td>15609930.0</td>\n      <td>198710.0</td>\n    </tr>\n    <tr>\n      <th>2020-09-12</th>\n      <td>England</td>\n      <td>3008</td>\n      <td>143.0</td>\n      <td>13.0</td>\n      <td>newPillarOneTestsByPublishDate</td>\n      <td>146607.0</td>\n      <td>newPillarThreeTestsByPublishDate</td>\n      <td>newPillarFourTestsByPublishDate</td>\n      <td>15859088.0</td>\n      <td>209405.0</td>\n    </tr>\n    <tr>\n      <th>2020-09-13</th>\n      <td>England</td>\n      <td>2837</td>\n      <td>153.0</td>\n      <td>15.0</td>\n      <td>newPillarOneTestsByPublishDate</td>\n      <td>132383.0</td>\n      <td>newPillarThreeTestsByPublishDate</td>\n      <td>newPillarFourTestsByPublishDate</td>\n      <td>16047533.0</td>\n      <td>188445.0</td>\n    </tr>\n    <tr>\n      <th>2020-09-14</th>\n      <td>England</td>\n      <td>2259</td>\n      <td>172.0</td>\n      <td>14.0</td>\n      <td>newPillarOneTestsByPublishDate</td>\n      <td>143011.0</td>\n      <td>newPillarThreeTestsByPublishDate</td>\n      <td>newPillarFourTestsByPublishDate</td>\n      <td>16233997.0</td>\n      <td>186464.0</td>\n    </tr>\n    <tr>\n      <th>2020-09-15</th>\n      <td>England</td>\n      <td>2649</td>\n      <td>194.0</td>\n      <td>15.0</td>\n      <td>newPillarOneTestsByPublishDate</td>\n      <td>131781.0</td>\n      <td>newPillarThreeTestsByPublishDate</td>\n      <td>newPillarFourTestsByPublishDate</td>\n      <td>16417102.0</td>\n      <td>183010.0</td>\n    </tr>\n    <tr>\n      <th>2020-09-16</th>\n      <td>England</td>\n      <td>3396</td>\n      <td>183.0</td>\n      <td>20.0</td>\n      <td>newPillarOneTestsByPublishDate</td>\n      <td>131580.0</td>\n      <td>newPillarThreeTestsByPublishDate</td>\n      <td>newPillarFourTestsByPublishDate</td>\n      <td>16618443.0</td>\n      <td>200210.0</td>\n    </tr>\n    <tr>\n      <th>2020-09-17</th>\n      <td>England</td>\n      <td>2788</td>\n      <td>199.0</td>\n      <td>14.0</td>\n      <td>newPillarOneTestsByPublishDate</td>\n      <td>132918.0</td>\n      <td>newPillarThreeTestsByPublishDate</td>\n      <td>newPillarFourTestsByPublishDate</td>\n      <td>16829078.0</td>\n      <td>207516.0</td>\n    </tr>\n    <tr>\n      <th>2020-09-18</th>\n      <td>England</td>\n      <td>3771</td>\n      <td>205.0</td>\n      <td>13.0</td>\n      <td>newPillarOneTestsByPublishDate</td>\n      <td>133978.0</td>\n      <td>newPillarThreeTestsByPublishDate</td>\n      <td>newPillarFourTestsByPublishDate</td>\n      <td>17035735.0</td>\n      <td>205264.0</td>\n    </tr>\n    <tr>\n      <th>2020-09-19</th>\n      <td>England</td>\n      <td>3638</td>\n      <td>NaN</td>\n      <td>4.0</td>\n      <td>newPillarOneTestsByPublishDate</td>\n      <td>NaN</td>\n      <td>newPillarThreeTestsByPublishDate</td>\n      <td>newPillarFourTestsByPublishDate</td>\n      <td>NaN</td>\n      <td>NaN</td>\n    </tr>\n    <tr>\n      <th>2020-09-20</th>\n      <td>England</td>\n      <td>3279</td>\n      <td>NaN</td>\n      <td>NaN</td>\n      <td>newPillarOneTestsByPublishDate</td>\n      <td>NaN</td>\n      <td>newPillarThreeTestsByPublishDate</td>\n      <td>newPillarFourTestsByPublishDate</td>\n      <td>NaN</td>\n      <td>NaN</td>\n    </tr>\n  </tbody>\n</table>\n</div>"
     },
     "metadata": {},
     "execution_count": 20
    }
   ],
   "source": [
    "# extract the desired data\n",
    "\n",
    "df.sort_values(by='date',ascending=True,inplace=True)\n",
    "df.set_index(keys='date', inplace=True)\n",
    "\n",
    "df.tail(20)"
   ]
  },
  {
   "cell_type": "code",
   "execution_count": null,
   "metadata": {},
   "outputs": [],
   "source": []
  }
 ]
}